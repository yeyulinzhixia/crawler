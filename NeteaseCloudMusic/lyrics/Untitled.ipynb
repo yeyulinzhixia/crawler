{
 "cells": [
  {
   "cell_type": "code",
   "execution_count": 6,
   "metadata": {},
   "outputs": [],
   "source": [
    "import re\n",
    "import requests\n",
    "import execjs\n",
    "import json"
   ]
  },
  {
   "cell_type": "code",
   "execution_count": 7,
   "metadata": {},
   "outputs": [],
   "source": [
    "headers = {\n",
    "    'Accept-Encoding':'gzip, deflate',\n",
    "    'Content-Type':'application/x-www-form-urlencoded',\n",
    "    'Host':'music.163.com',\n",
    "    'Origin':'http://music.163.com',\n",
    "    'Proxy-Connection':'keep-alive',\n",
    "    'Pragma':'no-cache',\n",
    "    'Referer':'http://music.163.com/',\n",
    "    'User-Agent':'Mozilla/5.0 (Windows NT 10.0; Win64; x64) AppleWebKit/537.36 (KHTML, like Gecko) Chrome/64.0.3282.186 Safari/537.36',\n",
    "}"
   ]
  },
  {
   "cell_type": "code",
   "execution_count": 62,
   "metadata": {},
   "outputs": [],
   "source": [
    "#客户端请求\n",
    "URL = 'https://music.163.com/api/song/lyric'\n",
    "query ={'id':1485319473,'lv': -1,'kv': -1,'tv': -1,'rv':-1}\n",
    "r = requests.post(URL,data=query,headers=headers)\n",
    "response = json.loads(r.text)"
   ]
  },
  {
   "cell_type": "code",
   "execution_count": 63,
   "metadata": {},
   "outputs": [
    {
     "data": {
      "text/plain": [
       "{'sgc': False,\n",
       " 'sfy': False,\n",
       " 'qfy': False,\n",
       " 'transUser': {'id': 12196200,\n",
       "  'status': 99,\n",
       "  'demand': 1,\n",
       "  'userid': 124033720,\n",
       "  'nickname': '拿不拿的男友Rin',\n",
       "  'uptime': 1602316128981},\n",
       " 'lyricUser': {'id': 12175530,\n",
       "  'status': 99,\n",
       "  'demand': 0,\n",
       "  'userid': 396002635,\n",
       "  'nickname': '绛岛',\n",
       "  'uptime': 1602124624995},\n",
       " 'lrc': {'version': 6,\n",
       "  'lyric': '[00:00.000] 作词 : n-buna\\n[00:01.000] 作曲 : n-buna\\n[00:13.753]明日はきっと天気で\\u3000悪いことなんてないね\\n[00:18.664]タイムカードを押して僕は朝、目を開いた\\n[00:24.150]僕らは今日も買ってる\\u3000足りないものしかなくて\\n[00:29.348]靴を履きながら空想\\u3000空は高いのかな\\n[00:34.808]\\n[00:44.421]貴方さえ\\u3000貴方さえ\\n[00:50.429]これはきっとわからないんだ\\n[00:53.094]はにかむ顔が散らつく\\n[00:55.680]口を開けて風を食む\\n[00:58.266]春が先\\u3000花ぐわし\\n[01:01.166]桜の散りぬるを眺む\\n[01:06.390]今、風を食む\\n[01:14.671]棚の心は十五円\\u3000一つだけ売れ残った\\n[01:25.433]値引きのシールを貼って閉店時間を待った\\n[01:30.867]明日もきっと天気で\\u3000此処にも客が並んで\\n[01:35.961]二割引の心は誰かが買うんだろうか\\n[01:41.368]\\n[01:47.455]貴方だけ\\u3000貴方だけ\\n[01:57.172]僕はずっと想ってたんだ\\n[01:59.915]ただ白いあの雲を待つ\\n[02:02.423]風のない春に騒めく\\n[02:05.035]草流れ\\u3000天飛ぶや\\n[02:07.804]軽く花の散るを眺む\\n[02:12.846]今、風を食む\\n[02:22.171]\\n[02:26.664]遂に心は半額\\u3000いつまでも売れ残って\\n[02:32.020]テレビを眺めて空想\\u3000ニュースは希望のバーゲン\\n[02:37.322]貴方は今日も買ってる\\u3000足りないものしか無くて\\n[02:42.756]俯く手元で購入\\u3000空は高いのかな\\n[02:48.529]\\n[02:59.030]貴方だけ\\u3000貴方だけ\\n[03:03.915]この希望をわからないんだ\\n[03:06.449]売れ残りの心でいい\\n[03:08.983]僕にとっては美しい\\n[03:11.700]春が咲き\\u3000花ぐわし\\n[03:14.416]桜の散りぬるを眺む\\n[03:21.783]貴方しか\\u3000貴方しか\\n[03:25.126]貴方の傷はわからないんだ\\n[03:27.713]口を開けて歌い出す\\n[03:30.090]今、貴方は風を食む\\n[03:32.859]冬籠り\\u3000春が先\\n[03:35.758]貴方の歌だけが聞こえる\\n[03:40.774]今、口遊む貴方だけ\\n[03:53.156]貴方だけ\\n'},\n",
       " 'klyric': {'version': 0, 'lyric': ''},\n",
       " 'tlyric': {'version': 5,\n",
       "  'lyric': '[by:拿不拿的男友Rin]\\n[00:13.753]明天一定会是好天气\\xa0\\xa0没有任何烦心事哦\\n[00:18.664]早晨打好考勤卡\\xa0\\xa0我醒了过来\\n[00:24.150]我们今天也只采购着\\xa0\\xa0我们所缺少的东西\\n[00:29.348]穿着鞋子幻想着\\xa0\\xa0天空一定很高阔吧\\n[00:44.421]就连你\\xa0就连你\\n[00:50.429]也一定不会明白的\\n[00:53.094]害羞的脸庞若隐若现\\n[00:55.680]张开嘴吞食清风\\n[00:58.266]春意临近\\xa0\\xa0繁花锦簇\\n[01:01.166]远望纷飞落樱\\n[01:06.390]如今\\xa0\\xa0吞食清风\\n[01:14.671]货架上的心脏售价十五元\\xa0\\xa0只剩下一个没卖出去\\n[01:25.433]贴上降价的标签\\xa0\\xa0等待着闭店时间的到来\\n[01:30.867]明天一定会是好天气\\xa0\\xa0这里也会排着许多的客人\\n[01:35.961]但是这一颗打八折的心脏\\xa0\\xa0又有谁会去买呢\\n[01:47.455]只有你\\xa0\\xa0只有你\\n[01:57.172]一直浮现于我的脑海之中\\n[01:59.915]只是等待着那朵白云\\n[02:02.423]于无风的春日中喧嚣\\n[02:05.035]草波流淌\\xa0\\xa0随风飘荡\\n[02:07.804]远望轻飏落花\\n[02:12.846]如今\\xa0\\xa0吞食清风\\n[02:26.664]最后那颗心脏降到了半价\\xa0\\xa0但是仍然没能卖出去\\n[02:32.020]望着电视幻想着\\xa0\\xa0新闻正播放着希望的大甩卖\\n[02:37.322]你今天也只采购着\\xa0\\xa0你所缺少的东西\\n[02:42.756]低着头动动手指买了下来\\xa0\\xa0天空一定很高阔吧\\n[02:59.030]只有你\\xa0\\xa0只有你\\n[03:03.915]不懂得这份希望\\n[03:06.449]卖不出去的心脏也无妨\\n[03:08.983]在我眼里仍是如此美丽\\n[03:11.700]春意绽放\\xa0\\xa0繁花锦簇\\n[03:14.416]远望纷飞落樱\\n[03:21.783]只有你\\xa0\\xa0只有你\\n[03:25.126]不知道自己的伤口在哪里\\n[03:27.713]放声歌唱\\n[03:30.090]如今，你正吞食着清风\\n[03:32.859]寒冬过后\\xa0\\xa0便是暖春\\n[03:35.758]唯有你的歌声萦绕耳畔\\n[03:40.774]如今，唯有哼唱着歌儿的你\\n[03:53.156]唯有你\\n'},\n",
       " 'romalrc': {'version': 3,\n",
       "  'lyric': '[00:13.753]a shi ta wa ki tto te n ki de wa ru i ko to na n te na i ne\\n[00:18.664]ta i mu kaa do wo o shi te bo ku wa a sa、me wo hi ra i ta\\n[00:24.150]bo ku ra wa kyo u mo ka tte ru ta ri na i mo no shi ka na ku te\\n[00:29.348]ku tsu wo ha ki na ga ra ku u so u so ra wa ta ka i no ka na\\n[00:34.808]\\n[00:44.421]a na ta sa e a na ta sa e\\n[00:50.429]ko re wa ki tto wa ka ra na i n da\\n[00:53.094]ha ni ka mu ka o ga chi ra tsu ku\\n[00:55.680]ku chi wo a ke te ka ze wo ha mu\\n[00:58.266]ha ru ga sa ki ha na gu wa shi\\n[01:01.166]sa ku ra no chi ri nu ru wo na ga mu\\n[01:06.390]i ma、ka ze wo ha mu\\n[01:14.671]ta na no ko ko ro wa ju u go e n hi to tsu da ke u re no ko tta\\n[01:25.433]ne bi ki no shii ru wo ha tte he i te n ji ka n wo ma tta\\n[01:30.867]a shi ta mo ki tto te n ki de ko ko ni mo kya ku ga na ra n de\\n[01:35.961]ni wa ri bi ki no ko ko ro wa da re ka ga ka u n da ro u ka\\n[01:41.368]\\n[01:47.455]a na ta da ke a na ta da ke\\n[01:57.172]bo ku wa zu tto o mo tte ta n da\\n[01:59.915]ta da shi ro i a no ku mo wo ma tsu\\n[02:02.423]ka ze no na i ha ru ni za wa me ku\\n[02:05.035]ku sa na ga re a ma to bu ya\\n[02:07.804]ka ru ku ha na no chi ru wo na ga mu\\n[02:12.846]i ma、ka ze wo ha mu\\n[02:22.171]\\n[02:26.664]tsu i ni ko ko ro wa ha n ga ku i tsu ma de mo u re no ko tte\\n[02:32.020]te re bi wo na ga me te ku u so u nyuu su wa ki bo u no baa ge n\\n[02:37.322]a na ta wa kyo u mo ka tte ru ta ri na i mo no shi ka na ku te\\n[02:42.756]u tsu mu ku te mo to de ko u nyu u so ra wa ta ka i no ka na\\n[02:48.529]\\n[02:59.030]a na ta da ke a na ta da ke\\n[03:03.915]ko no ki bo u wo wa ka ra na i n da\\n[03:06.449]u re no ko ri no ko ko ro de i i\\n[03:08.983]bo ku ni to tte wa u tsu ku shi i\\n[03:11.700]ha ru ga sa ki ha na gu wa shi\\n[03:14.416]sa ku ra no chi ri nu ru wo na ga mu\\n[03:21.783]a na ta shi ka a na ta shi ka\\n[03:25.126]a na ta no ki zu wa wa ka ra na i n da\\n[03:27.713]ku chi wo a ke te u ta i da su\\n[03:30.090]i ma、a na ta wa ka ze wo ha mu\\n[03:32.859]fu yu go mo ri ha ru ga sa ki\\n[03:35.758]a na ta no u ta da ke ga ki ko e ru\\n[03:40.774]i ma、ku chi zu sa mu a na ta da ke\\n[03:53.156]a na ta da ke'},\n",
       " 'code': 200}"
      ]
     },
     "execution_count": 63,
     "metadata": {},
     "output_type": "execute_result"
    }
   ],
   "source": [
    "response"
   ]
  },
  {
   "cell_type": "code",
   "execution_count": 105,
   "metadata": {},
   "outputs": [
    {
     "ename": "SyntaxError",
     "evalue": "invalid syntax (<ipython-input-105-3a62fea956dd>, line 1)",
     "output_type": "error",
     "traceback": [
      "\u001b[1;36m  File \u001b[1;32m\"<ipython-input-105-3a62fea956dd>\"\u001b[1;36m, line \u001b[1;32m1\u001b[0m\n\u001b[1;33m    http://music.163.com/song?id=1824454151&userid=319307154\u001b[0m\n\u001b[1;37m          ^\u001b[0m\n\u001b[1;31mSyntaxError\u001b[0m\u001b[1;31m:\u001b[0m invalid syntax\n"
     ]
    }
   ],
   "source": [
    "http://music.163.com/song?id=1824454151&userid=319307154"
   ]
  },
  {
   "cell_type": "code",
   "execution_count": 154,
   "metadata": {
    "scrolled": true
   },
   "outputs": [
    {
     "data": {
      "text/plain": [
       "{'sgc': False,\n",
       " 'sfy': True,\n",
       " 'qfy': True,\n",
       " 'lyricUser': {'id': 18151309,\n",
       "  'status': 99,\n",
       "  'demand': 0,\n",
       "  'userid': 376527659,\n",
       "  'nickname': '繁华落尽梦在深巷',\n",
       "  'uptime': 1615432355396},\n",
       " 'lrc': {'version': 10,\n",
       "  'lyric': '[00:00.000] 作词 : St_色太\\n[00:00.352] 作曲 : Dr.e\\n[00:00.704] 编曲 : Dr.e\\n[00:01.58]编曲 : Dr.e\\n[00:02.36]\\n[00:02.98]\\n[00:03.46]泠鸢yousa：啊，啊，啊，test，test…\\n[00:04.86]鹿乃：はい~はい~チェック、チェック…\\n[00:07.28]hanser ：check it out！\\n[00:08.24]昨晚忘了睡觉！\\n[00:09.04]再困也要微笑！\\n[00:10.42]只是为给你的快乐添加一点配料！\\n[00:13.28]祖娅纳惜：嘿，你怎么就唱上了？\\n[00:14.97]hanser：先开开嗓嘛~\\n[00:16.20]泠鸢yousa：话说今天唱什么？\\n[00:17.45]祖娅纳惜：今天可不光要唱，还要给大家拜年呢！\\n[00:21.37]鹿乃：おぉぉぉ~やる気満満~\\n[00:22.38]\\n[00:22.72]合：\\n[00:23.10]锣鼓声绕过几道街（街：gāi。下同）\\n[00:24.61]几道街 巷口戏开台\\n[00:27.21]戏腔穿过红门外\\n[00:29.49]门外正月里 谁盼新春来\\n[00:31.89]天边亮一抹鱼肚白\\n[00:34.13]鱼肚白 家家添新彩\\n[00:36.54]杂院r谁将筵席摆\\n[00:39.07]互道吉祥 把这新年拜\\n[00:40.83]\\n[00:41.63]泠鸢yousa：\\n[00:42.06]我祝市间商贾 日进斗金 事业一帆风顺（贾：gǔ）\\n[00:45.82]祝天下结发夫妻 白头偕老 二人永连心\\n[00:50.64]鹿乃：\\n[00:51.44]我祝万里风光 山清水秀 景色常如三春\\n[00:55.30]庄稼尽丰登 四时好雨润\\n[01:00.04]祖娅纳惜：\\n[01:00.47]我 张灯结彩 将那五福期盼\\n[01:03.49]放声高歌 诉美好祝愿\\n[01:05.43]泠鸢yousa/祖娅纳惜：\\n[01:05.79]愿您 六亲阖家欢\\n[01:07.68]团圆过一年又一年\\n[01:09.96]hanser：\\n[01:10.40]我 烟花之下 坐把七星看\\n[01:13.16]闭上双眼诚心发愿\\n[01:14.87]鹿乃/hanser：\\n[01:15.20]愿您 福寿赛八仙\\n[01:17.29]长命过百岁 身康体健\\n[01:20.07]\\n[01:20.34]泠鸢yousa/祖娅纳惜：\\n[01:20.67]谁 望名利双丰收 望明朝大展鸿猷 望祥瑞遍九州（猷：yóu）\\n[01:28.74]鹿乃/hanser：\\n[01:29.49]谁 歌福祉佑春秋 歌好运岁岁长留 歌十方锦绣\\n[01:37.91]\\n[01:38.55]合：\\n[01:38.75]贺岁声传过几道街\\n[01:41.35]几道街 我愿春长在\\n[01:44.02]恭祝家家禧门开\\n[01:46.25]鸿运连三江 鑫源通四海\\n[01:48.59]旧岁去那个新岁来（那：nèi）\\n[01:50.91]新岁来 我祝福不改\\n[01:53.59]谨祝人人乐开怀\\n[01:55.86]辞旧迎新 大步从头迈\\n[01:58.27]\\n[01:58.46]hanser：\\n[01:58.56]先祝春风送暖 福临天地祉佑玄黄\\n[02:00.51]再祝松龄父老 九如天宝万寿无疆\\n[02:02.96]三祝文人书客 玉润珠圆神融笔畅\\n[02:05.40]四祝士工商旅 鹏程万里骏业辉煌\\n[02:07.83]五祝怀喜佳人 石麟天赐明珠入掌\\n[02:10.17]六祝天仙眷侣 白首成约文定吉祥\\n[02:12.48]七祝金童玉女 天资聪颖身强体壮\\n[02:15.03]终祝四方天下 太平日久安定年长\\n[02:17.40]\\n[02:17.61]祖娅纳惜：\\n[02:17.79]我祝运动健儿 豪取桂冠 成绩十全十美\\n[02:21.83]祝人间科技腾飞 上冲九霄 下探汪洋水\\n[02:26.79]hanser：\\n[02:27.04]我祝莘莘学子 才高八斗 个个出类拔萃 （莘：shēn）\\n[02:31.48]下笔皆成章 七步赋诗对\\n[02:36.32]泠鸢yousa：\\n[02:36.85]我 摊开红纸 书写六合安阜（阜：fù）\\n[02:39.61]续成春联把吉祥恭祝\\n[02:41.19]泠鸢yousa/hanser：\\n[02:41.55]祝您 五伦尽和睦\\n[02:43.75]平安过一季又一度\\n[02:45.95]鹿乃：\\n[02:46.57]我 燃点爆竹 震响四方路\\n[02:49.19]嬉笑中把佳节庆祝\\n[02:51.03]鹿乃/祖娅纳惜：\\n[02:51.47]祝愿 世间三灾除\\n[02:53.36]天下共大同 平和永驻\\n[02:56.18]\\n[02:56.38]泠鸢yousa/hanser：\\n[02:56.60]谁 望余生展宏图 望福被千家万户 望喜梅开二度 （被：pī）\\n[03:04.85]鹿乃/祖娅纳惜：\\n[03:05.51]谁 歌天堑变通途 歌春回万物复苏 歌一曲祝福\\n[03:13.35]\\n[03:13.82]合：\\n[03:14.68]欢歌声飘过几道街\\n[03:17.44]几道街 我赏新花r开\\n[03:20.18]敬祝家家尽安泰\\n[03:22.25]和气存千载 富贵传万代\\n[03:24.65]一曲听过了五更外\\n[03:26.95]五更外 鸡唱天下白\\n[03:29.77]我祝春色放光彩\\n[03:31.86]岁岁年年 福运滚滚来~~~~\\n[03:43.90]\\n[03:44.10]泠鸢yousa/鹿乃：\\n[03:44.32]贺岁声传过几道街\\n[03:46.19]几道街 我愿春长在\\n[03:49.02]恭祝家家禧门开\\n[03:51.09]鸿运连三江 鑫源通四海\\n[03:53.15]祖娅纳惜/hanser：\\n[03:53.56]旧岁去那个新岁来（那：nèi）\\n[03:55.73]新岁来 我祝福不改\\n[03:58.60]倾祝家家尽满载\\n[04:00.58]合：\\n[04:01.05]福禄寿喜财（hey）\\n[04:02.66]\\n[04:02.98]合：\\n[04:03.27]爆竹声透过几道街\\n[04:05.38]几道街 我希冀常在\\n[04:08.16]挥手扫光旧阴霾\\n[04:10.27]留几分潇洒 留几分慷慨\\n[04:12.63]新年跨进了新时代\\n[04:15.01]新时代 谁满心期待\\n[04:17.71]唱响喜庆的节拍\\n[04:19.91]一心让这 世界充满爱\\n[04:24.83]\\n'},\n",
       " 'code': 200}"
      ]
     },
     "execution_count": 154,
     "metadata": {},
     "output_type": "execute_result"
    }
   ],
   "source": [
    "#手机端请求\n",
    "headers = {\n",
    "    'Accept-Encoding':'gzip, deflate',\n",
    "    'Content-Type':'application/x-www-form-urlencoded',\n",
    "    'Host':'music.163.com',\n",
    "    'Origin':'http://music.163.com',\n",
    "    'Proxy-Connection':'keep-alive',\n",
    "    'Pragma':'no-cache',\n",
    "    'Referer':'http://music.163.com/',\n",
    "    'User-Agent':'Mozilla/5.0 (Windows NT 10.0; Win64; x64) AppleWebKit/537.36 (KHTML, like Gecko) Chrome/64.0.3282.186 Safari/537.36',\n",
    "}\n",
    "js = open('../playlist/crypto.js', 'r').read()\n",
    "ext = execjs.compile(js)\n",
    "URL = 'https://music.163.com/eapi/song/lyric'\n",
    "query ={'id':1824454151,'lv': -1,'kv': -1,'tv': -1,'rv':-1}\n",
    "param = ext.call('eapi','/api/song/lyric',query)\n",
    "r = requests.post(URL,data=param,headers=headers)\n",
    "response = json.loads(r.text)\n",
    "response"
   ]
  },
  {
   "cell_type": "code",
   "execution_count": 152,
   "metadata": {
    "scrolled": true
   },
   "outputs": [],
   "source": [
    "import re\n",
    "output = {}\n",
    "for line in re.finditer('](.*)[:：](.*)\\\\n',response['lrc']['lyric']):\n",
    "    if len(line.group(2))>8:\n",
    "        continue\n",
    "    k = line.group(1).strip()\n",
    "    if len(k)>8:\n",
    "        continue\n",
    "    if response['lrc']['lyric'].count(k)>1 and k not in ['作词','作曲','编曲']:\n",
    "        continue\n",
    "    for v in re.split('[、/]',line.group(2)):\n",
    "        if v.strip()!='':\n",
    "            output[k] = v.strip()                       \n",
    "#         print(line.group(1).split(' '))\n",
    "#         print(line.group(1),i.group(2))"
   ]
  },
  {
   "cell_type": "code",
   "execution_count": 153,
   "metadata": {},
   "outputs": [
    {
     "data": {
      "text/plain": [
       "{'作词': 'St_色太', '作曲': 'Dr.e', '编曲': 'Dr.e'}"
      ]
     },
     "execution_count": 153,
     "metadata": {},
     "output_type": "execute_result"
    }
   ],
   "source": [
    "output"
   ]
  },
  {
   "cell_type": "code",
   "execution_count": 135,
   "metadata": {},
   "outputs": [
    {
     "data": {
      "text/plain": [
       "10"
      ]
     },
     "execution_count": 135,
     "metadata": {},
     "output_type": "execute_result"
    }
   ],
   "source": [
    "response['lrc']['lyric'].count('hanser')"
   ]
  },
  {
   "cell_type": "code",
   "execution_count": 149,
   "metadata": {},
   "outputs": [
    {
     "data": {
      "text/plain": [
       "['W欧式\\\\', 'd,as:d', 'as']"
      ]
     },
     "execution_count": 149,
     "metadata": {},
     "output_type": "execute_result"
    }
   ],
   "source": [
    "re.split('[、/]','W欧式\\/d,as:d、as')"
   ]
  },
  {
   "cell_type": "code",
   "execution_count": 157,
   "metadata": {},
   "outputs": [
    {
     "name": "stdout",
     "output_type": "stream",
     "text": [
      "1828017044\n"
     ]
    }
   ],
   "source": [
    "import pymongo\n",
    "myclient = pymongo.MongoClient(\"mongodb://localhost:27017/\")\n",
    "mydb = myclient[\"netease\"]\n",
    "mycol = mydb[\"lyrics\"]\n",
    "x = mycol.find_one()\n",
    "print(x['id'])"
   ]
  },
  {
   "cell_type": "code",
   "execution_count": 1,
   "metadata": {},
   "outputs": [],
   "source": [
    "import pymongo"
   ]
  },
  {
   "cell_type": "code",
   "execution_count": 2,
   "metadata": {},
   "outputs": [],
   "source": [
    "myclient = pymongo.MongoClient(\"mongodb://localhost:27017/\")\n",
    "mydb = myclient[\"netease\"]\n",
    "mycol = mydb[\"lyrics\"]"
   ]
  },
  {
   "cell_type": "code",
   "execution_count": 22,
   "metadata": {
    "scrolled": true
   },
   "outputs": [
    {
     "name": "stderr",
     "output_type": "stream",
     "text": [
      "C:\\Users\\WXL\\anaconda3\\lib\\site-packages\\ipykernel_launcher.py:1: DeprecationWarning: count is deprecated. Use Collection.count_documents instead.\n",
      "  \"\"\"Entry point for launching an IPython kernel.\n"
     ]
    }
   ],
   "source": [
    "if mycol.find({'id':30212125}).count():\n",
    "    mycol.delete_many({'id':30212125})\n",
    "    mycol.insert_one({\"id\":30212125,'作曲':'Dok2'})"
   ]
  },
  {
   "cell_type": "code",
   "execution_count": 24,
   "metadata": {},
   "outputs": [
    {
     "name": "stdout",
     "output_type": "stream",
     "text": [
      "{'_id': ObjectId('606b232ade7707273b123d3e'), 'id': 30212125, '作曲': 'Dok2'}\n"
     ]
    }
   ],
   "source": [
    "for i in mycol.find({'id':30212125}):\n",
    "    print(i)"
   ]
  },
  {
   "cell_type": "code",
   "execution_count": 21,
   "metadata": {},
   "outputs": [
    {
     "name": "stderr",
     "output_type": "stream",
     "text": [
      "C:\\Users\\WXL\\anaconda3\\lib\\site-packages\\ipykernel_launcher.py:1: DeprecationWarning: count is deprecated. Use Collection.count_documents instead.\n",
      "  \"\"\"Entry point for launching an IPython kernel.\n"
     ]
    },
    {
     "data": {
      "text/plain": [
       "1"
      ]
     },
     "execution_count": 21,
     "metadata": {},
     "output_type": "execute_result"
    }
   ],
   "source": [
    "mycol.find({'id':30212125}).count()"
   ]
  },
  {
   "cell_type": "code",
   "execution_count": null,
   "metadata": {},
   "outputs": [],
   "source": []
  }
 ],
 "metadata": {
  "kernelspec": {
   "display_name": "Python 3",
   "language": "python",
   "name": "python3"
  },
  "language_info": {
   "codemirror_mode": {
    "name": "ipython",
    "version": 3
   },
   "file_extension": ".py",
   "mimetype": "text/x-python",
   "name": "python",
   "nbconvert_exporter": "python",
   "pygments_lexer": "ipython3",
   "version": "3.7.6"
  }
 },
 "nbformat": 4,
 "nbformat_minor": 4
}
